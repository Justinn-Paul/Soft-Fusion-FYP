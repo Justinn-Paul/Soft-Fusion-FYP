{
 "cells": [
  {
   "cell_type": "code",
   "execution_count": 1,
   "metadata": {},
   "outputs": [],
   "source": [
    "# first set up which gpu to use\n",
    "import os\n",
    "gpu_ids = 0\n",
    "os.environ[\"CUDA_VISIBLE_DEVICES\"] = f\"{gpu_ids}\""
   ]
  },
  {
   "cell_type": "code",
   "execution_count": 2,
   "metadata": {},
   "outputs": [
    {
     "name": "stderr",
     "output_type": "stream",
     "text": [
      "/root/miniconda3/envs/sdfusion/lib/python3.8/site-packages/tqdm/auto.py:21: TqdmWarning: IProgress not found. Please update jupyter and ipywidgets. See https://ipywidgets.readthedocs.io/en/stable/user_install.html\n",
      "  from .autonotebook import tqdm as notebook_tqdm\n"
     ]
    }
   ],
   "source": [
    "# import libraries\n",
    "import numpy as np\n",
    "from termcolor import colored, cprint\n",
    "# for display\n",
    "from IPython.display import Image as ipy_image\n",
    "from IPython.display import display\n",
    "\n",
    "import torch\n",
    "import torch.backends.cudnn as cudnn\n",
    "cudnn.benchmark = True\n",
    "import torchvision.utils as vutils\n",
    "\n",
    "from datasets.dataloader import CreateDataLoader, get_data_generator\n",
    "from models.base_model import create_model\n",
    "from utils.util_3d import render_sdf, render_mesh, sdf_to_mesh, save_mesh_as_gif\n",
    "\n",
    "%load_ext autoreload\n",
    "%autoreload 2"
   ]
  },
  {
   "cell_type": "code",
   "execution_count": 10,
   "metadata": {},
   "outputs": [
    {
     "name": "stdout",
     "output_type": "stream",
     "text": [
      "[*] VQVAETestOpt initialized.\n"
     ]
    }
   ],
   "source": [
    "# options for the model. please check `utils/demo_util.py` for more details\n",
    "from utils.demo_util import VQVAEOpt\n",
    "\n",
    "seed = 2023\n",
    "opt = VQVAEOpt(seed=seed)\n",
    "device = opt.device"
   ]
  },
  {
   "cell_type": "code",
   "execution_count": 15,
   "metadata": {},
   "outputs": [
    {
     "name": "stdout",
     "output_type": "stream",
     "text": [
      "Working with z of shape (1, 3, 16, 16, 16) = 12288 dimensions.\n",
      "\u001b[34m[*] weight successfully load from: /root/autodl-tmp/SDFusion/saved_ckpt/vqvae-snet-all.pth\u001b[0m\n",
      "\u001b[34m[*] Model has been created: VQVAE-Model\u001b[0m\n"
     ]
    }
   ],
   "source": [
    "vqvae_path = \"/root/autodl-tmp/SDFusion/saved_ckpt/vqvae-snet-all.pth\"\n",
    "opt.isTrain = False\n",
    "opt.init_model_args(ckpt_path=vqvae_path, vq_cfg='configs/vqvae_snet.yaml')\n",
    "vqvae = create_model(opt)"
   ]
  },
  {
   "cell_type": "code",
   "execution_count": null,
   "metadata": {},
   "outputs": [],
   "source": [
    "obj_path = \"/root/autodl-tmp/SDFusion/data/ShapeNet/ShapeNetV1processed/04256520/1a04e3eab45d6f4a2a6e76a921d3343a/models/model_normalized.obj\"\n",
    "\n",
    "# turn obj to sdf\n"
   ]
  }
 ],
 "metadata": {
  "kernelspec": {
   "display_name": "sdfusion",
   "language": "python",
   "name": "python3"
  },
  "language_info": {
   "codemirror_mode": {
    "name": "ipython",
    "version": 3
   },
   "file_extension": ".py",
   "mimetype": "text/x-python",
   "name": "python",
   "nbconvert_exporter": "python",
   "pygments_lexer": "ipython3",
   "version": "3.8.19"
  }
 },
 "nbformat": 4,
 "nbformat_minor": 2
}
